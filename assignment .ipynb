{
 "cells": [
  {
   "cell_type": "markdown",
   "metadata": {},
   "source": [
    "# Importing all the files required - along with the libraries"
   ]
  },
  {
   "cell_type": "code",
   "execution_count": 4,
   "metadata": {},
   "outputs": [],
   "source": [
    "import pandas as pd\n",
    "import numpy as np\n",
    "import pycountry\n",
    "import traceback\n",
    "import matplotlib.pyplot as plt\n",
    "import seaborn as sns"
   ]
  },
  {
   "cell_type": "code",
   "execution_count": 7,
   "metadata": {},
   "outputs": [],
   "source": [
    "# imporing the three data sets required\n",
    "\n",
    "company=pd.read_csv('https://cdn.upgrad.com/UpGrad/temp/d934844e-5182-4b58-b896-4ba2a499aa57/companies.txt', sep=\"\\t\", encoding = \"palmos\")\n",
    "round2=pd.read_csv('rounds2.csv', encoding = \"palmos\")\n",
    "mappings=pd.read_csv('mapping.csv',index_col=None)"
   ]
  },
  {
   "cell_type": "markdown",
   "metadata": {},
   "source": [
    "# Data prepration and missing value handling\n",
    "1. How many unique companies are present in the companies file?\n",
    "2. How many unique companies are present in rounds2?\n",
    "3. Removing all the columns not used in the analysis.\n",
    "4. Outer merge is done - so that we dont loose any information on funding recieved for questions in 2.1"
   ]
  },
  {
   "cell_type": "code",
   "execution_count": 8,
   "metadata": {},
   "outputs": [
    {
     "name": "stdout",
     "output_type": "stream",
     "text": [
      "permalink            0\n",
      "name                 1\n",
      "homepage_url      5058\n",
      "category_list     3148\n",
      "status               0\n",
      "country_code      6958\n",
      "state_code        8547\n",
      "region            8030\n",
      "city              8028\n",
      "founded_at       15221\n",
      "dtype: int64\n",
      "The number of unique values in data fame is 66368\n"
     ]
    }
   ],
   "source": [
    "# Checking data for null values\n",
    "print(company.isnull().sum())\n",
    "company.isnull().all(axis=1).sum()\n",
    "# Putting the value of unique identifier in lower case to avoid over calculating unique values\n",
    "company['permalink']=company['permalink'].map(lambda x:x.lower())\n",
    "print('The number of unique values in data fame is {}'.format(len(company.permalink.unique())))"
   ]
  },
  {
   "cell_type": "markdown",
   "metadata": {},
   "source": [
    "The below mentioned colums have been deleated as they are found to be of no use and high number of missing values- analyst doesnt feel the need for imputation"
   ]
  },
  {
   "cell_type": "code",
   "execution_count": 9,
   "metadata": {},
   "outputs": [],
   "source": [
    "company=company.drop('founded_at',axis=1)\n",
    "company=company.drop('city',axis=1)\n",
    "company=company.drop('region',axis=1)\n",
    "company=company.drop('state_code',axis=1)\n",
    "company=company.drop('homepage_url',axis=1)"
   ]
  },
  {
   "cell_type": "code",
   "execution_count": 10,
   "metadata": {},
   "outputs": [
    {
     "name": "stdout",
     "output_type": "stream",
     "text": [
      "company_permalink              0\n",
      "funding_round_permalink        0\n",
      "funding_round_type             0\n",
      "funding_round_code         83809\n",
      "funded_at                      0\n",
      "raised_amount_usd          19990\n",
      "dtype: int64\n",
      "The number of unique values in data fame is 66368\n"
     ]
    }
   ],
   "source": [
    "print(round2.isnull().sum())\n",
    "# round2.isnull().all(axis=1).sum()\n",
    "round2['company_permalink']=round2['company_permalink'].map(lambda x:x.lower())\n",
    "print('The number of unique values in data fame is {}'.format(len(round2.company_permalink.unique())))"
   ]
  },
  {
   "cell_type": "code",
   "execution_count": 11,
   "metadata": {},
   "outputs": [],
   "source": [
    "round2=round2.drop('funding_round_code', axis =1)\n",
    "round2=round2.drop('funded_at', axis =1)\n",
    "round2=round2.drop('funding_round_permalink', axis =1)"
   ]
  },
  {
   "cell_type": "code",
   "execution_count": 12,
   "metadata": {},
   "outputs": [
    {
     "data": {
      "text/html": [
       "<div>\n",
       "<style scoped>\n",
       "    .dataframe tbody tr th:only-of-type {\n",
       "        vertical-align: middle;\n",
       "    }\n",
       "\n",
       "    .dataframe tbody tr th {\n",
       "        vertical-align: top;\n",
       "    }\n",
       "\n",
       "    .dataframe thead th {\n",
       "        text-align: right;\n",
       "    }\n",
       "</style>\n",
       "<table border=\"1\" class=\"dataframe\">\n",
       "  <thead>\n",
       "    <tr style=\"text-align: right;\">\n",
       "      <th></th>\n",
       "      <th>permalink</th>\n",
       "      <th>name</th>\n",
       "      <th>category_list</th>\n",
       "      <th>status</th>\n",
       "      <th>country_code</th>\n",
       "      <th>company_permalink</th>\n",
       "      <th>funding_round_type</th>\n",
       "      <th>raised_amount_usd</th>\n",
       "    </tr>\n",
       "    <tr>\n",
       "      <th>_merge</th>\n",
       "      <th></th>\n",
       "      <th></th>\n",
       "      <th></th>\n",
       "      <th></th>\n",
       "      <th></th>\n",
       "      <th></th>\n",
       "      <th></th>\n",
       "      <th></th>\n",
       "    </tr>\n",
       "  </thead>\n",
       "  <tbody>\n",
       "    <tr>\n",
       "      <th>left_only</th>\n",
       "      <td>0</td>\n",
       "      <td>0</td>\n",
       "      <td>0</td>\n",
       "      <td>0</td>\n",
       "      <td>0</td>\n",
       "      <td>0</td>\n",
       "      <td>0</td>\n",
       "      <td>0</td>\n",
       "    </tr>\n",
       "    <tr>\n",
       "      <th>right_only</th>\n",
       "      <td>0</td>\n",
       "      <td>0</td>\n",
       "      <td>0</td>\n",
       "      <td>0</td>\n",
       "      <td>0</td>\n",
       "      <td>0</td>\n",
       "      <td>0</td>\n",
       "      <td>0</td>\n",
       "    </tr>\n",
       "    <tr>\n",
       "      <th>both</th>\n",
       "      <td>114949</td>\n",
       "      <td>114948</td>\n",
       "      <td>111539</td>\n",
       "      <td>114949</td>\n",
       "      <td>106271</td>\n",
       "      <td>114949</td>\n",
       "      <td>114949</td>\n",
       "      <td>94959</td>\n",
       "    </tr>\n",
       "  </tbody>\n",
       "</table>\n",
       "</div>"
      ],
      "text/plain": [
       "            permalink    name  category_list  status  country_code  \\\n",
       "_merge                                                               \n",
       "left_only           0       0              0       0             0   \n",
       "right_only          0       0              0       0             0   \n",
       "both           114949  114948         111539  114949        106271   \n",
       "\n",
       "            company_permalink  funding_round_type  raised_amount_usd  \n",
       "_merge                                                                \n",
       "left_only                   0                   0                  0  \n",
       "right_only                  0                   0                  0  \n",
       "both                   114949              114949              94959  "
      ]
     },
     "execution_count": 12,
     "metadata": {},
     "output_type": "execute_result"
    }
   ],
   "source": [
    "# master_frame=pd.merge(company,round2,how=\"inner\", left_on='permalink', right_on='company_permalink', indicator= True)\n",
    "# master_frame.info()\n",
    "\n",
    "master_frame=pd.merge(company,round2,how=\"outer\", left_on='permalink', right_on='company_permalink', indicator= True)\n",
    "df=master_frame.groupby('_merge')\n",
    "df.count()"
   ]
  },
  {
   "cell_type": "markdown",
   "metadata": {},
   "source": [
    "Above is done check if there are data which is in one data set and not in other "
   ]
  },
  {
   "cell_type": "markdown",
   "metadata": {},
   "source": [
    "# Funding Type Analysis\n",
    "\n",
    "1. Removing the null value for 'funding_round_type' and 'raised_amount_usd'\n",
    "2. Finding the most invested funding round type - in terms of-\n",
    "    - High total investments\n",
    "    - High total number of investments and \n",
    "    - Average investments within scope of the fund"
   ]
  },
  {
   "cell_type": "markdown",
   "metadata": {},
   "source": [
    "Since the spead of the data is such that imputing value of amount raised doesnt make sense - i have decided to remove the null values/missing values."
   ]
  },
  {
   "cell_type": "code",
   "execution_count": 13,
   "metadata": {},
   "outputs": [
    {
     "name": "stdout",
     "output_type": "stream",
     "text": [
      "94959\n"
     ]
    },
    {
     "data": {
      "text/plain": [
       "permalink                0\n",
       "name                     1\n",
       "category_list         1044\n",
       "status                   0\n",
       "country_code          5851\n",
       "company_permalink        0\n",
       "funding_round_type       0\n",
       "raised_amount_usd        0\n",
       "_merge                   0\n",
       "dtype: int64"
      ]
     },
     "execution_count": 13,
     "metadata": {},
     "output_type": "execute_result"
    }
   ],
   "source": [
    "master_frame = master_frame.loc[master_frame.funding_round_type.notnull()]\n",
    "master_frame = master_frame.loc[master_frame.raised_amount_usd.notnull()]\n",
    "print(len(master_frame.index))\n",
    "master_frame.isnull().sum()"
   ]
  },
  {
   "cell_type": "markdown",
   "metadata": {},
   "source": [
    "Total investment in various 'funding_round_type'"
   ]
  },
  {
   "cell_type": "code",
   "execution_count": 14,
   "metadata": {},
   "outputs": [
    {
     "name": "stdout",
     "output_type": "stream",
     "text": [
      "990125085135.0\n",
      "94959\n"
     ]
    },
    {
     "data": {
      "text/plain": [
       "funding_round_type\n",
       "venture                  590126.216876\n",
       "private_equity           141925.436105\n",
       "debt_financing           113884.840886\n",
       "post_ipo_equity           51610.606151\n",
       "undisclosed               30441.429697\n",
       "post_ipo_debt             25643.094917\n",
       "seed                      16989.864181\n",
       "grant                      9134.424145\n",
       "angel                      4659.255123\n",
       "secondary_market           2389.488903\n",
       "convertible_note           2103.125572\n",
       "equity_crowdfunding         661.116163\n",
       "product_crowdfunding        526.168593\n",
       "non_equity_assistance        30.017823\n",
       "Name: raised_amount_usd, dtype: float64"
      ]
     },
     "execution_count": 14,
     "metadata": {},
     "output_type": "execute_result"
    }
   ],
   "source": [
    "df2=master_frame.groupby('funding_round_type')\n",
    "print(master_frame.raised_amount_usd.sum())\n",
    "print(master_frame.raised_amount_usd.count())\n",
    "(df2.raised_amount_usd.sum().sort_values(ascending= False)/1000000)"
   ]
  },
  {
   "cell_type": "markdown",
   "metadata": {},
   "source": [
    "Total number of investment in various 'funding_round_type'"
   ]
  },
  {
   "cell_type": "code",
   "execution_count": 15,
   "metadata": {},
   "outputs": [
    {
     "data": {
      "text/plain": [
       "funding_round_type\n",
       "post_ipo_debt            168.704572\n",
       "post_ipo_equity           82.182494\n",
       "secondary_market          79.649630\n",
       "private_equity            73.308593\n",
       "undisclosed               19.242370\n",
       "debt_financing            17.043526\n",
       "venture                   11.748949\n",
       "grant                      4.300576\n",
       "convertible_note           1.453439\n",
       "product_crowdfunding       1.363131\n",
       "angel                      0.958694\n",
       "seed                       0.719818\n",
       "equity_crowdfunding        0.538368\n",
       "non_equity_assistance      0.411203\n",
       "Name: raised_amount_usd, dtype: float64"
      ]
     },
     "execution_count": 15,
     "metadata": {},
     "output_type": "execute_result"
    }
   ],
   "source": [
    "(df2.raised_amount_usd.mean().sort_values(ascending= False)/1000000)"
   ]
  },
  {
   "cell_type": "markdown",
   "metadata": {},
   "source": [
    "Avg. investment in various 'funding_round_type'"
   ]
  },
  {
   "cell_type": "code",
   "execution_count": 16,
   "metadata": {},
   "outputs": [
    {
     "data": {
      "text/plain": [
       "funding_round_type\n",
       "venture                  50228\n",
       "seed                     23603\n",
       "debt_financing            6682\n",
       "angel                     4860\n",
       "grant                     2124\n",
       "private_equity            1936\n",
       "undisclosed               1582\n",
       "convertible_note          1447\n",
       "equity_crowdfunding       1228\n",
       "post_ipo_equity            628\n",
       "product_crowdfunding       386\n",
       "post_ipo_debt              152\n",
       "non_equity_assistance       73\n",
       "secondary_market            30\n",
       "Name: raised_amount_usd, dtype: int64"
      ]
     },
     "execution_count": 16,
     "metadata": {},
     "output_type": "execute_result"
    }
   ],
   "source": [
    "df2.raised_amount_usd.count().sort_values(ascending= False)"
   ]
  },
  {
   "cell_type": "markdown",
   "metadata": {},
   "source": [
    "# Country Analysis\n",
    "\n",
    "1. Listing of the company in terms of the investments received.\n",
    "2. Listing of companies in terms of number of investments received.\n",
    "3. Please note while the total investment is higher for India- than canada while the total number of investment is higher for canada.\n",
    "4. to choose for third position i have checked average investment in canada and India- since for India avg. Inv is >$15MM- same has been droped \n"
   ]
  },
  {
   "cell_type": "markdown",
   "metadata": {},
   "source": [
    "Total investment - Ranking"
   ]
  },
  {
   "cell_type": "code",
   "execution_count": null,
   "metadata": {},
   "outputs": [],
   "source": [
    "# Slicingt data for funding round type - Venture\n",
    "master_venture=master_frame.loc[(master_frame.funding_round_type=='venture')]\n",
    "df= master_venture.groupby('country_code')\n",
    "top9=(df.raised_amount_usd.sum()/1000000).sort_values(ascending= False)[:9]\n",
    "top9"
   ]
  },
  {
   "cell_type": "markdown",
   "metadata": {},
   "source": [
    "Total number of investment - Ranking"
   ]
  },
  {
   "cell_type": "code",
   "execution_count": null,
   "metadata": {},
   "outputs": [],
   "source": [
    "top9_count=df.raised_amount_usd.count().sort_values(ascending= False)[:10]\n",
    "top9_count"
   ]
  },
  {
   "cell_type": "code",
   "execution_count": null,
   "metadata": {},
   "outputs": [],
   "source": [
    "df= master_venture.loc[master_frame['country_code'].isin(['IND','CAN', 'USA', 'GBR'])]\n",
    "df3=df.groupby('country_code')\n",
    "df3.raised_amount_usd.mean()/1000000"
   ]
  },
  {
   "cell_type": "markdown",
   "metadata": {},
   "source": [
    "Above is done to select betwwn India and Canada is the third best destination.\n",
    "Since avg. investment in India is > $15MM same has been excluded."
   ]
  },
  {
   "cell_type": "markdown",
   "metadata": {},
   "source": [
    "# Sector  Analysis\n",
    "1. Mapping of the category list with sectors\n",
    "2. Merging of the data for sector wise analysis \n",
    "3. Slicing the data for $5MM to $15MM investment space\n",
    "4. Removing the companies for which status is closed."
   ]
  },
  {
   "cell_type": "code",
   "execution_count": null,
   "metadata": {},
   "outputs": [],
   "source": [
    "mappings['category_list']=mappings['category_list'].replace({'0':'na'},regex=True)\n",
    "mappings.set_index('category_list',inplace=True)\n",
    "mappings=mappings[:].idxmax(axis=1)\n",
    "mappings=mappings.reset_index()\n",
    "mappings.rename(columns={0:'category'},inplace=True)\n",
    "mappings.head()"
   ]
  },
  {
   "cell_type": "code",
   "execution_count": 3,
   "metadata": {},
   "outputs": [
    {
     "ename": "NameError",
     "evalue": "name 'master_venture' is not defined",
     "output_type": "error",
     "traceback": [
      "\u001b[0;31m---------------------------------------------------------------------------\u001b[0m",
      "\u001b[0;31mNameError\u001b[0m                                 Traceback (most recent call last)",
      "\u001b[0;32m<ipython-input-3-5c575589c3c8>\u001b[0m in \u001b[0;36m<module>\u001b[0;34m()\u001b[0m\n\u001b[1;32m      1\u001b[0m \u001b[0;31m# master_venture['category_list']= master_venture.loc[:,('category_list')].apply(lambda x: str(x).split(\"|\")[0])\u001b[0m\u001b[0;34m\u001b[0m\u001b[0;34m\u001b[0m\u001b[0m\n\u001b[0;32m----> 2\u001b[0;31m \u001b[0mmaster_venture\u001b[0m\u001b[0;34m[\u001b[0m\u001b[0;34m'category_list'\u001b[0m\u001b[0;34m]\u001b[0m\u001b[0;34m=\u001b[0m \u001b[0mmaster_venture\u001b[0m\u001b[0;34m[\u001b[0m\u001b[0;34m'category_list'\u001b[0m\u001b[0;34m]\u001b[0m\u001b[0;34m.\u001b[0m\u001b[0mmap\u001b[0m\u001b[0;34m(\u001b[0m\u001b[0;32mlambda\u001b[0m \u001b[0mx\u001b[0m\u001b[0;34m:\u001b[0m \u001b[0mstr\u001b[0m\u001b[0;34m(\u001b[0m\u001b[0mx\u001b[0m\u001b[0;34m)\u001b[0m\u001b[0;34m.\u001b[0m\u001b[0msplit\u001b[0m\u001b[0;34m(\u001b[0m\u001b[0;34m\"|\"\u001b[0m\u001b[0;34m)\u001b[0m\u001b[0;34m[\u001b[0m\u001b[0;36m0\u001b[0m\u001b[0;34m]\u001b[0m\u001b[0;34m)\u001b[0m\u001b[0;34m\u001b[0m\u001b[0m\n\u001b[0m\u001b[1;32m      3\u001b[0m \u001b[0mmaster_venture\u001b[0m\u001b[0;34m.\u001b[0m\u001b[0mhead\u001b[0m\u001b[0;34m(\u001b[0m\u001b[0;34m)\u001b[0m\u001b[0;34m\u001b[0m\u001b[0m\n\u001b[1;32m      4\u001b[0m \u001b[0;34m\u001b[0m\u001b[0m\n\u001b[1;32m      5\u001b[0m \u001b[0;31m# df_sector=pd.merge(mappings,master_venture,how='outer', on='category_list')\u001b[0m\u001b[0;34m\u001b[0m\u001b[0;34m\u001b[0m\u001b[0m\n",
      "\u001b[0;31mNameError\u001b[0m: name 'master_venture' is not defined"
     ]
    }
   ],
   "source": [
    "# master_venture['category_list']= master_venture.loc[:,('category_list')].apply(lambda x: str(x).split(\"|\")[0])\n",
    "master_venture['category_list']= master_venture['category_list'].map(lambda x: str(x).split(\"|\")[0])\n",
    "master_venture.head()\n",
    "\n",
    "# df_sector=pd.merge(mappings,master_venture,how='outer', on='category_list')\n",
    "# df_sector=df_sector.loc[(df_sector.raised_amount_usd>=5000000)&(df_sector.raised_amount_usd<=15000000)]\n",
    "# df_sector=df_sector.loc[df_sector.status.isin(['acquired','ipo','operating'])]\n",
    "# df_sector.head()"
   ]
  },
  {
   "cell_type": "code",
   "execution_count": 17,
   "metadata": {},
   "outputs": [
    {
     "name": "stdout",
     "output_type": "stream",
     "text": [
      "Total number of companies in USA is 11344\n",
      "Total investment in USA is 101545266754.0\n"
     ]
    },
    {
     "data": {
      "text/plain": [
       "category\n",
       "Others                                     2758\n",
       "Social, Finance, Analytics, Advertising    2590\n",
       "Cleantech / Semiconductors                 2147\n",
       "Name: raised_amount_usd, dtype: int64"
      ]
     },
     "execution_count": 17,
     "metadata": {},
     "output_type": "execute_result"
    }
   ],
   "source": [
    "d1=df_sector.loc[df_sector.country_code=='USA']\n",
    "print('Total number of companies in USA is {}'.format(d1.raised_amount_usd.count()))\n",
    "print('Total investment in USA is {}'.format(d1.raised_amount_usd.sum()))\n",
    "d1.groupby('category').raised_amount_usd.count().sort_values(ascending=False)[:3]"
   ]
  },
  {
   "cell_type": "code",
   "execution_count": 18,
   "metadata": {},
   "outputs": [
    {
     "data": {
      "text/plain": [
       "category                                 name                           \n",
       "News, Search and Messaging               Airspan Networks                   81769000.0\n",
       "Cleantech / Semiconductors               Biodesix                           75300000.0\n",
       "Entertainment                            Avnera                             71062970.0\n",
       "Cleantech / Semiconductors               Tigo Energy                        68739496.0\n",
       "Social, Finance, Analytics, Advertising  SST Inc. (Formerly ShotSpotter)    67933006.0\n",
       "Health                                   EndoGastric Solutions              67896724.0\n",
       "Others                                   Virtustream                        64300000.0\n",
       "Social, Finance, Analytics, Advertising  Demandbase                         63000000.0\n",
       "                                         Intacct                            61800000.0\n",
       "Cleantech / Semiconductors               ForSight Labs                      61300001.0\n",
       "Name: raised_amount_usd, dtype: float64"
      ]
     },
     "execution_count": 18,
     "metadata": {},
     "output_type": "execute_result"
    }
   ],
   "source": [
    "# Ranking of the companies in order of investment recieved.\n",
    "\n",
    "d1sub=d1.groupby(['category','name'])\n",
    "d1sub.raised_amount_usd.sum().sort_values(ascending=False)[0:10]"
   ]
  },
  {
   "cell_type": "code",
   "execution_count": 19,
   "metadata": {},
   "outputs": [
    {
     "name": "stdout",
     "output_type": "stream",
     "text": [
      "Total number of companies in GBR is 587\n",
      "Total investment in GBR is 5093543406.0\n"
     ]
    },
    {
     "data": {
      "text/plain": [
       "category\n",
       "Others                                     140\n",
       "Social, Finance, Analytics, Advertising    128\n",
       "Cleantech / Semiconductors                 115\n",
       "Name: raised_amount_usd, dtype: int64"
      ]
     },
     "execution_count": 19,
     "metadata": {},
     "output_type": "execute_result"
    }
   ],
   "source": [
    "d2=df_sector.loc[df_sector.country_code=='GBR']\n",
    "print('Total number of companies in GBR is {}'.format(d2.raised_amount_usd.count()))\n",
    "print('Total investment in GBR is {}'.format(d2.raised_amount_usd.sum()))\n",
    "d2.groupby('category').raised_amount_usd.count().sort_values(ascending=False)[:3]"
   ]
  },
  {
   "cell_type": "code",
   "execution_count": 20,
   "metadata": {},
   "outputs": [
    {
     "data": {
      "text/plain": [
       "category                                 name                  \n",
       "Automotive & Sports                      GreenRoad Technologies    52500000.0\n",
       "Social, Finance, Analytics, Advertising  Celltick Technologies     37500000.0\n",
       "News, Search and Messaging               Ubiquisys                 37000000.0\n",
       "Others                                   Electric Cloud            37000000.0\n",
       "                                         SenSage                   36250000.0\n",
       "News, Search and Messaging               brylle                    36000000.0\n",
       "Cleantech / Semiconductors               EUSA Pharma               35600000.0\n",
       "Automotive & Sports                      Autoquake                 35557140.0\n",
       "Social, Finance, Analytics, Advertising  myThings                  34000000.0\n",
       "                                         Zopa                      32900000.0\n",
       "Name: raised_amount_usd, dtype: float64"
      ]
     },
     "execution_count": 20,
     "metadata": {},
     "output_type": "execute_result"
    }
   ],
   "source": [
    "# Ranking of the companies in order of investment recieved.\n",
    "d2sub=d2.groupby(['category','name'])\n",
    "d2sub.raised_amount_usd.sum().sort_values(ascending=False)[0:10]"
   ]
  },
  {
   "cell_type": "code",
   "execution_count": 21,
   "metadata": {},
   "outputs": [
    {
     "name": "stdout",
     "output_type": "stream",
     "text": [
      "Total number of companies in CAN is 391\n",
      "Total investment in CAN is 3353474736.0\n",
      "category\n",
      "Others                                     99\n",
      "Cleantech / Semiconductors                 99\n",
      "Social, Finance, Analytics, Advertising    74\n",
      "Name: raised_amount_usd, dtype: int64\n"
     ]
    },
    {
     "data": {
      "text/plain": [
       "category\n",
       "Cleantech / Semiconductors                 894427439.0\n",
       "Others                                     853207962.0\n",
       "Social, Finance, Analytics, Advertising    615143075.0\n",
       "Name: raised_amount_usd, dtype: float64"
      ]
     },
     "execution_count": 21,
     "metadata": {},
     "output_type": "execute_result"
    }
   ],
   "source": [
    "d3=df_sector.loc[df_sector.country_code=='CAN']\n",
    "print('Total number of companies in CAN is {}'.format(d3.raised_amount_usd.count()))\n",
    "print('Total investment in CAN is {}'.format(d3.raised_amount_usd.sum()))\n",
    "# Ranking basis number of investments\n",
    "print(d3.groupby('category').raised_amount_usd.count().sort_values(ascending=False)[:3])\n",
    "# Ranking basis number of investments\n",
    "d3.groupby('category').raised_amount_usd.sum().sort_values(ascending=False)[:3]"
   ]
  },
  {
   "cell_type": "code",
   "execution_count": 22,
   "metadata": {},
   "outputs": [
    {
     "data": {
      "text/plain": [
       "category                                 name               \n",
       "Cleantech / Semiconductors               Fresco Microchip       48000000.0\n",
       "                                         Ostara                 43152682.0\n",
       "News, Search and Messaging               Dayforce               40000000.0\n",
       "Others                                   QuickPlay Media        38700000.0\n",
       "Cleantech / Semiconductors               Diablo Technologies    35500000.0\n",
       "                                         Zymeworks              34100000.0\n",
       "Social, Finance, Analytics, Advertising  Wave Accounting        33000000.0\n",
       "Others                                   NewStep Networks       31477853.0\n",
       "News, Search and Messaging               Slyce                  31450000.0\n",
       "Cleantech / Semiconductors               enGene                 31150000.0\n",
       "Name: raised_amount_usd, dtype: float64"
      ]
     },
     "execution_count": 22,
     "metadata": {},
     "output_type": "execute_result"
    }
   ],
   "source": [
    "d3sub=d3.groupby(['category','name'])\n",
    "d3sub.raised_amount_usd.sum().sort_values(ascending=False)[0:10]"
   ]
  },
  {
   "cell_type": "markdown",
   "metadata": {},
   "source": [
    "# Plotting of results\n",
    "\n",
    "As a final step, you have to present your findings to the CEO of Spark Funds. Specifically, she wants to see the following plots:\n",
    "\n",
    "A plot showing the fraction of total investments (globally) in venture, seed, and private equity, and the average amount of investment in each funding type. This chart should make it clear that a certain funding type (FT) is best suited for Spark Funds."
   ]
  },
  {
   "cell_type": "code",
   "execution_count": 30,
   "metadata": {},
   "outputs": [
    {
     "data": {
      "image/png": "[encoded data removed]",
      "text/plain": [
       "<matplotlib.figure.Figure at 0x1a138a1a90>"
      ]
     },
     "metadata": {},
     "output_type": "display_data"
    }
   ],
   "source": [
    "plt.figure(figsize=(14, 14))\n",
    "\n",
    "plt.subplot(2, 1, 1)\n",
    "plt.title(\"subplot 1: Total Investment\")\n",
    "sns.barplot(y= 'funding_round_type', x='raised_amount_usd', data=master_frame, estimator=np.sum)\n",
    "plt.xscale('log')\n",
    "\n",
    "plt.subplot(2, 1, 2)\n",
    "plt.title(\"subplot 2 : Avg Investments\")\n",
    "sns.boxplot(y= 'funding_round_type', x='raised_amount_usd', data=master_frame )\n",
    "plt.xscale('log')"
   ]
  },
  {
   "cell_type": "markdown",
   "metadata": {},
   "source": [
    "#A plot showing the top 9 countries against the total amount of investments of funding type FT. This should make the top 3 countries (Country 1, Country 2, and Country 3) very clear."
   ]
  },
  {
   "cell_type": "markdown",
   "metadata": {},
   "source": [
    "A plot showing the number of investments in the top 3 sectors of the top 3 countries on one chart (for the chosen investment type FT). "
   ]
  },
  {
   "cell_type": "code",
   "execution_count": 28,
   "metadata": {},
   "outputs": [
    {
     "name": "stderr",
     "output_type": "stream",
     "text": [
      "/anaconda3/lib/python3.6/site-packages/matplotlib/scale.py:111: RuntimeWarning: invalid value encountered in less_equal\n",
      "  out[a <= 0] = -1000\n"
     ]
    },
    {
     "data": {
      "image/png": "[encoded data removed]",
      "text/plain": [
       "<matplotlib.figure.Figure at 0x1a14e88c88>"
      ]
     },
     "metadata": {},
     "output_type": "display_data"
    }
   ],
   "source": [
    "sectorsort= df_sector.groupby('country_code').raised_amount_usd.sum().sort_values(ascending= False)\n",
    "top9=pd.DataFrame(sectorsort[0:10])\n",
    "top9=top9.reset_index()\n",
    "\n",
    "plt.figure(num=None, figsize=(6,5), dpi=80, facecolor='w', edgecolor='k')\n",
    "sns.barplot(x='raised_amount_usd', y='country_code', data=top9)\n",
    "plt.xscale('log')\n",
    "plt.show()"
   ]
  },
  {
   "cell_type": "code",
   "execution_count": 29,
   "metadata": {},
   "outputs": [
    {
     "data": {
      "image/png": "[encoded data removed]",
      "text/plain": [
       "<matplotlib.figure.Figure at 0x1a14e60390>"
      ]
     },
     "metadata": {},
     "output_type": "display_data"
    }
   ],
   "source": [
    "plot1=pd.DataFrame(d1.groupby('category').raised_amount_usd.count().sort_values(ascending=False)[:3])\n",
    "plot1=plot1.reset_index()\n",
    "plot1['country_code']= 'USA'\n",
    "\n",
    "plot2=pd.DataFrame(d2.groupby('category').raised_amount_usd.count().sort_values(ascending=False)[:3])\n",
    "plot2=plot1.reset_index()\n",
    "plot2['country_code']= 'GBR'\n",
    "\n",
    "plot3=pd.DataFrame(d3.groupby('category').raised_amount_usd.count().sort_values(ascending=False)[:3])\n",
    "plot3=plot3.reset_index()\n",
    "plot3['country_code']= 'CAN'\n",
    "\n",
    "sectorplot= pd.concat([plot1, plot2,plot3], axis =0)\n",
    "plt.figure(num=None, figsize=(10, 6), dpi=80, facecolor='w', edgecolor='k')\n",
    "sns.barplot(y='country_code', x='raised_amount_usd', hue='category', data=sectorplot)\n",
    "plt.title(\"Country wise - break up of top three sectors\")\n",
    "plt.xlabel(\"Number of investments\")\n",
    "# plt.xscale('log')\n",
    "plt.show()"
   ]
  },
  {
   "cell_type": "code",
   "execution_count": null,
   "metadata": {},
   "outputs": [],
   "source": []
  }
 ],
 "metadata": {
  "kernelspec": {
   "display_name": "Python 3",
   "language": "python",
   "name": "python3"
  },
  "language_info": {
   "codemirror_mode": {
    "name": "ipython",
    "version": 3
   },
   "file_extension": ".py",
   "mimetype": "text/x-python",
   "name": "python",
   "nbconvert_exporter": "python",
   "pygments_lexer": "ipython3",
   "version": "3.6.4"
  }
 },
 "nbformat": 4,
 "nbformat_minor": 2
}
